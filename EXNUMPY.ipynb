{
  "nbformat": 4,
  "nbformat_minor": 0,
  "metadata": {
    "kernelspec": {
      "display_name": "Python 3",
      "language": "python",
      "name": "python3"
    },
    "language_info": {
      "codemirror_mode": {
        "name": "ipython",
        "version": 3
      },
      "file_extension": ".py",
      "mimetype": "text/x-python",
      "name": "python",
      "nbconvert_exporter": "python",
      "pygments_lexer": "ipython3",
      "version": "3.7.4"
    },
    "colab": {
      "name": "EXNUMPY.ipynb",
      "provenance": [],
      "collapsed_sections": [],
      "toc_visible": true
    }
  },
  "cells": [
    {
      "cell_type": "markdown",
      "metadata": {
        "id": "LB_ULbtKcDpG",
        "colab_type": "text"
      },
      "source": [
        "![titanic](img/titanic_historical.jpg \"Pintura do Titanic\")\n",
        "\n",
        "# EXERCÍCIOS: Análise de Dados do Titanic"
      ]
    },
    {
      "cell_type": "markdown",
      "metadata": {
        "id": "77YcMFm_cDpL",
        "colab_type": "text"
      },
      "source": [
        "O RMS Titanic foi um navio de passageiros britânico operado pela empresa *White Star Line* que afundou no Oceano Atlântico Norte nas primeiras horas da manhã de 15 de abril de 1912, depois de atingir um iceberg durante sua viagem inaugural de Southampton a Nova York. Dos 2.224 passageiros e tripulantes a bordo, mais de 1.500 morreram, tornando o naufrágio um dos desastres marítimos comerciais mais mortais da história moderna em tempos de paz.\n",
        "\n",
        "Neste estudo iremos explorar um conjunto de dados baseado na lista de passageiros do Titanic editada por Michael A. Findlay, publicada originalmente em Eaton & Haas (1994) Titanic: Triumph and Tragedy, Patrick Stephens Ltd, e expandida com a ajuda da comunidade da Internet. Os arquivos HTML originais foram obtidos por Philip Hind (1999) e o *dataset* descreve o status de sobrevivência de passageiros individuais no Titanic. Ele não contém informações para a tripulação, mas contém idades atuais e estimadas para quase 80% dos passageiros."
      ]
    },
    {
      "cell_type": "markdown",
      "metadata": {
        "id": "Pr6xIYtLcDpM",
        "colab_type": "text"
      },
      "source": [
        "## Dicionário de Dados\n",
        "\n",
        "Nesta seção será apresentado todo o processo de preparação, organização e limpeza de dados feito no *dataset* que possui os seguintes dados:\n",
        "\n",
        "| Nº | Coluna          | Descrição                                                                 |\n",
        "|:--:|:----------------|:--------------------------------------------------------------------------|\n",
        "|  1 | id_passageiro   | Identficador único do passageiro.                                         |\n",
        "|  2 | classe          | Classe social.                                                            |\n",
        "|  3 | sobreviveu      | Sobrevivente? Sim (1), Não (0).                                           |\n",
        "|  4 | nome            | Nome do passageiro.                                                       |\n",
        "|  5 | sexo            | Masculino (male), Feminino (female).                                      |\n",
        "|  6 | idade           | Idade do passageiro.                                                      |\n",
        "|  7 | irmaos_conjuges | Número de irmãos e cônjuges a bordo.                                      |\n",
        "|  8 | pais_filhos     | Número de pais e filhos a bordo.                                          |\n",
        "|  9 | bilhete         | Número do bilhete                                                         |\n",
        "| 10 | tarifa          | Preço da tarifa do passageiro.                                            |\n",
        "| 11 | cabine          | Cabine.                                                                   |\n",
        "| 12 | embarque        | Nome do porto de embarque: C = Cherbourg; Q = Queenstown; S = Southampton |\n",
        "| 13 | bote            | Bote salva vidas.                                                         |\n",
        "| 14 | corpo           | Número de identificação do corpo.                                         |\n",
        "| 15 | destino         | Local de desembarque do passageiro.                                       |\n",
        "\n",
        "### OBSERVAÇÕES\n",
        "\n",
        "- `classe` é uma aproximação do status socioeconômico na época, onde: 1 = Classe Alta1; 2 = Classe Média e 3 = Classe Baixa;\n",
        "- `idade` está representada em anos, porém, se a idade for menor que Um (1) ou caso tenha sido estimada, ela estará com casas decimais xx.5;\n",
        "- `tarifa` está em Libras esterlinas (British Pounds - £) anteriores a 1970;\n",
        "- `irmaos_conjuges` e `pais_filhos`: as variáveis de relação familiar de algumas relações foram ignoradas; a seguir estão as definições usadas:\n",
        "    - **Irmão**: Irmão, irmã, meio-irmão ou meia-irmã do passageiro a bordo do Titanic;\n",
        "    - **Cônjuge**: Marido ou esposa do passageiro a bordo do Titanic (amantes e noivos ignorados);\n",
        "    - **Pai**: Mãe ou pai do passageiro a bordo do Titanic;\n",
        "    - **Criança**: Filho, Filha, Enteado ou Enteada do Passageiro a bordo do Titanic;\n",
        "    - Outros parentes excluídos deste estudo incluem primos, sobrinhos / sobrinhas, tias / tios e parentes;\n",
        "    - Algumas crianças viajavam apenas com uma babá, portanto foi atribuído 0 para elas em pais_filhos; \n",
        "    - Alguns viajaram com amigos ou vizinhos muito próximos em uma vila, no entanto, as definições não apóiam essas relações.\n"
      ]
    },
    {
      "cell_type": "markdown",
      "metadata": {
        "id": "9ZGArti2cDpN",
        "colab_type": "text"
      },
      "source": [
        "## Exercícios\n",
        "Faça as questões abaixo usando somente a biblioteca [Numpy](https://numpy.org/)."
      ]
    },
    {
      "cell_type": "markdown",
      "metadata": {
        "id": "ctZu5GmncDpO",
        "colab_type": "text"
      },
      "source": [
        "1. Importe o pacote numpy com o nome np."
      ]
    },
    {
      "cell_type": "code",
      "metadata": {
        "id": "OHVb0lLvcDpP",
        "colab_type": "code",
        "colab": {}
      },
      "source": [
        "import numpy as np"
      ],
      "execution_count": 1,
      "outputs": []
    },
    {
      "cell_type": "markdown",
      "metadata": {
        "id": "YqN2LQDrcDpV",
        "colab_type": "text"
      },
      "source": [
        "2. Carregue o conjunto de dados disponível na pasta [data/titanic3.csv](data/titanic3.csv), ignorando as colunas: `cabine`, `bote`, `corpo` e `destino`. **Importante:** o arquivo `.csv` usa tabulação (`\\t`) como delimitador de campos."
      ]
    },
    {
      "cell_type": "code",
      "metadata": {
        "id": "OrCTy6zccDpW",
        "colab_type": "code",
        "colab": {
          "base_uri": "https://localhost:8080/",
          "height": 153
        },
        "outputId": "effd0395-9e08-42c9-b7fb-41637102aa7e"
      },
      "source": [
        "dados = np.genfromtxt('titanic3.csv',\n",
        "                      delimiter='\\t',\n",
        "                      encoding='utf-8',\n",
        "                      dtype=object,\n",
        "                      skip_header=True,\n",
        "                      usecols=[0,1,2,3,4,5,6,7,8,9,11]\n",
        "                      )\n",
        "\n",
        "dados"
      ],
      "execution_count": 2,
      "outputs": [
        {
          "output_type": "execute_result",
          "data": {
            "text/plain": [
              "array([[b'1', b'1', b'1', ..., b'24160', b'211.3375', b'S'],\n",
              "       [b'2', b'1', b'1', ..., b'113781', b'151.5500', b'S'],\n",
              "       [b'3', b'1', b'0', ..., b'113781', b'151.5500', b'S'],\n",
              "       ...,\n",
              "       [b'1307', b'3', b'0', ..., b'2656', b'7225.0000', b'C'],\n",
              "       [b'1308', b'3', b'0', ..., b'2670', b'7225.0000', b'C'],\n",
              "       [b'1309', b'3', b'0', ..., b'315082', b'7875.0000', b'S']],\n",
              "      dtype=object)"
            ]
          },
          "metadata": {
            "tags": []
          },
          "execution_count": 2
        }
      ]
    },
    {
      "cell_type": "markdown",
      "metadata": {
        "id": "T7ENYpxicDpa",
        "colab_type": "text"
      },
      "source": [
        "3. Quantas linhas foram lidas do arquivo?"
      ]
    },
    {
      "cell_type": "code",
      "metadata": {
        "id": "zAICW4R-cDpb",
        "colab_type": "code",
        "colab": {
          "base_uri": "https://localhost:8080/",
          "height": 34
        },
        "outputId": "3c16ac2b-87dc-4666-ba5b-37fdb0dad94e"
      },
      "source": [
        "len(dados)"
      ],
      "execution_count": 3,
      "outputs": [
        {
          "output_type": "execute_result",
          "data": {
            "text/plain": [
              "1309"
            ]
          },
          "metadata": {
            "tags": []
          },
          "execution_count": 3
        }
      ]
    },
    {
      "cell_type": "markdown",
      "metadata": {
        "id": "220hIQkLcDpg",
        "colab_type": "text"
      },
      "source": [
        "4. Quantas dimensões sua variável dados possui?"
      ]
    },
    {
      "cell_type": "code",
      "metadata": {
        "id": "LqGVVZsocDph",
        "colab_type": "code",
        "colab": {
          "base_uri": "https://localhost:8080/",
          "height": 34
        },
        "outputId": "28564897-e975-436c-8fc5-5518e42e268e"
      },
      "source": [
        "np.ndim(dados)"
      ],
      "execution_count": 4,
      "outputs": [
        {
          "output_type": "execute_result",
          "data": {
            "text/plain": [
              "2"
            ]
          },
          "metadata": {
            "tags": []
          },
          "execution_count": 4
        }
      ]
    },
    {
      "cell_type": "markdown",
      "metadata": {
        "id": "IEbhR6N4cDpl",
        "colab_type": "text"
      },
      "source": [
        "5. Obtenha os índices das posições onde existam dados ausentes."
      ]
    },
    {
      "cell_type": "code",
      "metadata": {
        "id": "gPCekDSqcDpm",
        "colab_type": "code",
        "colab": {
          "base_uri": "https://localhost:8080/",
          "height": 34
        },
        "outputId": "7f9f3349-4ead-435f-a3b0-20e216f774cd"
      },
      "source": [
        "ausentes = np.where(dados == '')\n",
        "print(ausentes)"
      ],
      "execution_count": 5,
      "outputs": [
        {
          "output_type": "stream",
          "text": [
            "(array([], dtype=int64), array([], dtype=int64))\n"
          ],
          "name": "stdout"
        }
      ]
    },
    {
      "cell_type": "markdown",
      "metadata": {
        "id": "onUORW3WcDpq",
        "colab_type": "text"
      },
      "source": [
        "6. Remova todas as linhas que possuem dados ausentes."
      ]
    },
    {
      "cell_type": "code",
      "metadata": {
        "id": "OEuU5hxGcDpq",
        "colab_type": "code",
        "colab": {
          "base_uri": "https://localhost:8080/",
          "height": 153
        },
        "outputId": "50d5aaf3-72f8-4119-ed17-9955a4fa445c"
      },
      "source": [
        "np.delete(dados,ausentes,axis=0)"
      ],
      "execution_count": 6,
      "outputs": [
        {
          "output_type": "execute_result",
          "data": {
            "text/plain": [
              "array([[b'1', b'1', b'1', ..., b'24160', b'211.3375', b'S'],\n",
              "       [b'2', b'1', b'1', ..., b'113781', b'151.5500', b'S'],\n",
              "       [b'3', b'1', b'0', ..., b'113781', b'151.5500', b'S'],\n",
              "       ...,\n",
              "       [b'1307', b'3', b'0', ..., b'2656', b'7225.0000', b'C'],\n",
              "       [b'1308', b'3', b'0', ..., b'2670', b'7225.0000', b'C'],\n",
              "       [b'1309', b'3', b'0', ..., b'315082', b'7875.0000', b'S']],\n",
              "      dtype=object)"
            ]
          },
          "metadata": {
            "tags": []
          },
          "execution_count": 6
        }
      ]
    },
    {
      "cell_type": "markdown",
      "metadata": {
        "id": "jDQrzmftcDpt",
        "colab_type": "text"
      },
      "source": [
        "7. Mostre todos os dados das 5 primeiras linhas do dataset."
      ]
    },
    {
      "cell_type": "code",
      "metadata": {
        "id": "_o6c-D24cDpt",
        "colab_type": "code",
        "colab": {
          "base_uri": "https://localhost:8080/",
          "height": 204
        },
        "outputId": "e0045fe9-a865-4454-e8d7-bf786c1aa8a2"
      },
      "source": [
        "dados[:5]"
      ],
      "execution_count": 7,
      "outputs": [
        {
          "output_type": "execute_result",
          "data": {
            "text/plain": [
              "array([[b'1', b'1', b'1', b'Allen, Miss. Elisabeth Walton', b'female',\n",
              "        b'29', b'0', b'0', b'24160', b'211.3375', b'S'],\n",
              "       [b'2', b'1', b'1', b'Allison, Master. Hudson Trevor', b'male',\n",
              "        b'1', b'1', b'2', b'113781', b'151.5500', b'S'],\n",
              "       [b'3', b'1', b'0', b'Allison, Miss. Helen Loraine', b'female',\n",
              "        b'2', b'1', b'2', b'113781', b'151.5500', b'S'],\n",
              "       [b'4', b'1', b'0', b'Allison, Mr. Hudson Joshua Creighton',\n",
              "        b'male', b'30', b'1', b'2', b'113781', b'151.5500', b'S'],\n",
              "       [b'5', b'1', b'0',\n",
              "        b'Allison, Mrs. Hudson J C (Bessie Waldo Daniels)', b'female',\n",
              "        b'25', b'1', b'2', b'113781', b'151.5500', b'S']], dtype=object)"
            ]
          },
          "metadata": {
            "tags": []
          },
          "execution_count": 7
        }
      ]
    },
    {
      "cell_type": "markdown",
      "metadata": {
        "id": "dnrgWaNwcDpw",
        "colab_type": "text"
      },
      "source": [
        "8. Crie as variáveis: `idade`, `irmaos_conjuges`, `pais_filhos` e `tarifa`; com todos os dados dessas colunas, e, tipos de dados conforme a tabela abaixo:\n",
        "\n",
        "| Nº | Coluna          | Tipo de Dados |\n",
        "|:--:|-----------------|---------------|\n",
        "|  6 | idade           | int           |\n",
        "|  7 | irmaos_conjuges | int           |\n",
        "|  8 | pais_filhos     | int           |\n",
        "| 10 | tarifa          | float         |"
      ]
    },
    {
      "cell_type": "code",
      "metadata": {
        "id": "Q-lsG1jvcDpx",
        "colab_type": "code",
        "colab": {
          "base_uri": "https://localhost:8080/",
          "height": 51
        },
        "outputId": "563609cf-28d9-46ad-8c4b-97a13dc60681"
      },
      "source": [
        "idades = dados[:,5]\n",
        "irmaos_conjuges = dados[:,6]\n",
        "pais_filhos = dados[:,7]\n",
        "tarifa = dados[:,9]\n",
        "print(idades, irmaos_conjuges,pais_filhos,tarifa)"
      ],
      "execution_count": 9,
      "outputs": [
        {
          "output_type": "stream",
          "text": [
            "[b'29' b'1' b'2' ... b'27' b'27' b'29'] [b'0' b'1' b'1' ... b'0' b'0' b'0'] [b'0' b'2' b'2' ... b'0' b'0' b'0'] [b'211.3375' b'151.5500' b'151.5500' ... b'7225.0000' b'7225.0000'\n",
            " b'7875.0000']\n"
          ],
          "name": "stdout"
        }
      ]
    },
    {
      "cell_type": "markdown",
      "metadata": {
        "id": "eoo_wtsrcDpz",
        "colab_type": "text"
      },
      "source": [
        "9. Selecione as primeiras 5 linhas dos dados."
      ]
    },
    {
      "cell_type": "code",
      "metadata": {
        "id": "GsedB5kEcDp0",
        "colab_type": "code",
        "colab": {
          "base_uri": "https://localhost:8080/",
          "height": 85
        },
        "outputId": "bc959a25-88ce-4197-9d88-4acb134cb1da"
      },
      "source": [
        "print(idades[:5])\n",
        "print(irmaos_conjuges[:5])\n",
        "print(pais_filhos[:5])\n",
        "print(tarifa[:5])"
      ],
      "execution_count": 10,
      "outputs": [
        {
          "output_type": "stream",
          "text": [
            "[b'29' b'1' b'2' b'30' b'25']\n",
            "[b'0' b'1' b'1' b'1' b'1']\n",
            "[b'0' b'2' b'2' b'2' b'2']\n",
            "[b'211.3375' b'151.5500' b'151.5500' b'151.5500' b'151.5500']\n"
          ],
          "name": "stdout"
        }
      ]
    },
    {
      "cell_type": "markdown",
      "metadata": {
        "id": "jHwZ6EIWcDp2",
        "colab_type": "text"
      },
      "source": [
        "10. Considerando o vetor `idades`, selecione todas as idades das crianças a bordo menores de 12 anos inclusive."
      ]
    },
    {
      "cell_type": "code",
      "metadata": {
        "id": "yAUzvpy9cDp3",
        "colab_type": "code",
        "colab": {
          "base_uri": "https://localhost:8080/",
          "height": 34
        },
        "outputId": "5e1ce119-886e-4241-8ecb-af84364e837f"
      },
      "source": [
        "idade_maior = 12\n",
        "idades = np.array(dados[:,6], dtype = int)\n",
        "condicao = idades == idade_maior\n",
        "dados[condicao,:]"
      ],
      "execution_count": 13,
      "outputs": [
        {
          "output_type": "execute_result",
          "data": {
            "text/plain": [
              "array([], shape=(0, 11), dtype=object)"
            ]
          },
          "metadata": {
            "tags": []
          },
          "execution_count": 13
        }
      ]
    },
    {
      "cell_type": "markdown",
      "metadata": {
        "id": "sbuypieucDp5",
        "colab_type": "text"
      },
      "source": [
        "11. Qual é a média das idades?"
      ]
    },
    {
      "cell_type": "code",
      "metadata": {
        "id": "UefF9LZwcDp5",
        "colab_type": "code",
        "colab": {
          "base_uri": "https://localhost:8080/",
          "height": 34
        },
        "outputId": "41bc04c0-3d7b-41b5-eb4d-4f310ba3c824"
      },
      "source": [
        "idades.mean()"
      ],
      "execution_count": 14,
      "outputs": [
        {
          "output_type": "execute_result",
          "data": {
            "text/plain": [
              "0.4988540870893812"
            ]
          },
          "metadata": {
            "tags": []
          },
          "execution_count": 14
        }
      ]
    },
    {
      "cell_type": "markdown",
      "metadata": {
        "id": "lVgrr_3acDp8",
        "colab_type": "text"
      },
      "source": [
        "12. Quais é a maior e menor idade?"
      ]
    },
    {
      "cell_type": "code",
      "metadata": {
        "id": "e6jHX6mbcDp8",
        "colab_type": "code",
        "colab": {
          "base_uri": "https://localhost:8080/",
          "height": 51
        },
        "outputId": "dffc3f9d-f825-465e-e6ec-757119ad07c4"
      },
      "source": [
        "idade_max = idades.max()\n",
        "print(idade_max)\n",
        "idade_min = idades.min()\n",
        "print(idade_min)"
      ],
      "execution_count": 15,
      "outputs": [
        {
          "output_type": "stream",
          "text": [
            "8\n",
            "0\n"
          ],
          "name": "stdout"
        }
      ]
    },
    {
      "cell_type": "markdown",
      "metadata": {
        "id": "tjlXdMXMcDp_",
        "colab_type": "text"
      },
      "source": [
        "13. Crie um vetor chamado `sobreviventes` com todos os dados das pessoas que sobreviveram ao naufrágio."
      ]
    },
    {
      "cell_type": "code",
      "metadata": {
        "id": "2JB1yBMQcDqA",
        "colab_type": "code",
        "colab": {
          "base_uri": "https://localhost:8080/",
          "height": 136
        },
        "outputId": "de142b84-a8e9-44f3-f98a-4a3099963780"
      },
      "source": [
        "sobreviventes = 1\n",
        "condicao = dados[:,2].astype(int) == sobreviventes\n",
        "sobreviventes = dados[condicao,:]\n",
        "print(sobreviventes)"
      ],
      "execution_count": 16,
      "outputs": [
        {
          "output_type": "stream",
          "text": [
            "[[b'1' b'1' b'1' ... b'24160' b'211.3375' b'S']\n",
            " [b'2' b'1' b'1' ... b'113781' b'151.5500' b'S']\n",
            " [b'6' b'1' b'1' ... b'19952' b'26.5500' b'S']\n",
            " ...\n",
            " [b'1287' b'3' b'1' ... b'2688' b'7.2292' b'C']\n",
            " [b'1291' b'3' b'1' ... b'363272' b'7.0000' b'S']\n",
            " [b'1301' b'3' b'1' ... b'2659' b'14.4542' b'C']]\n"
          ],
          "name": "stdout"
        }
      ]
    },
    {
      "cell_type": "markdown",
      "metadata": {
        "id": "G9Yi2q_lcDqC",
        "colab_type": "text"
      },
      "source": [
        "14. Segundo este conjunto de dados, quantas pessoas sobreviveram ao naufrágio?"
      ]
    },
    {
      "cell_type": "code",
      "metadata": {
        "id": "B3rD9QSacDqD",
        "colab_type": "code",
        "colab": {
          "base_uri": "https://localhost:8080/",
          "height": 34
        },
        "outputId": "b6c9e5bc-6f53-42bd-bf59-29e2fb88db23"
      },
      "source": [
        "len(sobreviventes)"
      ],
      "execution_count": 17,
      "outputs": [
        {
          "output_type": "execute_result",
          "data": {
            "text/plain": [
              "500"
            ]
          },
          "metadata": {
            "tags": []
          },
          "execution_count": 17
        }
      ]
    },
    {
      "cell_type": "markdown",
      "metadata": {
        "id": "XEDqnSt6cDqG",
        "colab_type": "text"
      },
      "source": [
        "15.  Considerando a coluna `idade` dos sobreviventes calcule:\n",
        "    - Média\n",
        "    - Mediana\n",
        "    - Máximo\n",
        "    - Mínimo"
      ]
    },
    {
      "cell_type": "code",
      "metadata": {
        "id": "Q_-4TrukcDqG",
        "colab_type": "code",
        "colab": {
          "base_uri": "https://localhost:8080/",
          "height": 85
        },
        "outputId": "85a615a5-c2c6-4e32-a9b3-edaee0eea040"
      },
      "source": [
        "print(idades.mean())\n",
        "print(np.median(idades))\n",
        "print(idades.max())\n",
        "print(idades.min())"
      ],
      "execution_count": 19,
      "outputs": [
        {
          "output_type": "stream",
          "text": [
            "0.4988540870893812\n",
            "0.0\n",
            "8\n",
            "0\n"
          ],
          "name": "stdout"
        }
      ]
    },
    {
      "cell_type": "markdown",
      "metadata": {
        "id": "emDRcwhxcDqI",
        "colab_type": "text"
      },
      "source": [
        "16. Crie um vetor chamado `vitimas_naufragio` com todos os dados das pessoas que não sobreviveram ao naufrágio."
      ]
    },
    {
      "cell_type": "code",
      "metadata": {
        "id": "IqQFBLxmcDqJ",
        "colab_type": "code",
        "colab": {}
      },
      "source": [
        "condicao = sobreviventes == 0\n",
        "vitimas_naufragio = dados(vitimas_naufragio)\n",
        "vitimas_naufragio"
      ],
      "execution_count": null,
      "outputs": []
    },
    {
      "cell_type": "markdown",
      "metadata": {
        "id": "t-0QERO2cDqL",
        "colab_type": "text"
      },
      "source": [
        "17. Considerando a coluna `vitimas_naufragio` dos sobreviventes calcule:\n",
        "    - Média\n",
        "    - Mediana\n",
        "    - Máximo\n",
        "    - Mínimo"
      ]
    },
    {
      "cell_type": "code",
      "metadata": {
        "id": "_cV4TqOPcDqL",
        "colab_type": "code",
        "colab": {}
      },
      "source": [
        ""
      ],
      "execution_count": null,
      "outputs": []
    },
    {
      "cell_type": "markdown",
      "metadata": {
        "id": "hL5xaRqmcDqT",
        "colab_type": "text"
      },
      "source": [
        "18. Qual era o preço médio das tarifas?"
      ]
    },
    {
      "cell_type": "code",
      "metadata": {
        "id": "DXQ71mV7cDqU",
        "colab_type": "code",
        "colab": {
          "base_uri": "https://localhost:8080/",
          "height": 34
        },
        "outputId": "4fa7f0cb-ac4e-4c97-8fb8-0f5382ab4e8c"
      },
      "source": [
        "tarifa = dados[:,10]\n",
        "print(tarifa)"
      ],
      "execution_count": 33,
      "outputs": [
        {
          "output_type": "stream",
          "text": [
            "[b'S' b'S' b'S' ... b'C' b'C' b'S']\n"
          ],
          "name": "stdout"
        }
      ]
    },
    {
      "cell_type": "markdown",
      "metadata": {
        "id": "KkLqE8-wcDqW",
        "colab_type": "text"
      },
      "source": [
        "19. Crie os vetores `classe_alta`, `classe_media` e `classe_baixa`, com os respectivos dados da coluna `classe` no qual:\n",
        "    - 1 = Classe Alta\n",
        "    - 2 = Classe Média\n",
        "    - 3 = Classe Baixa"
      ]
    },
    {
      "cell_type": "code",
      "metadata": {
        "id": "9iU47SJ5cDqX",
        "colab_type": "code",
        "colab": {}
      },
      "source": [
        ""
      ],
      "execution_count": null,
      "outputs": []
    },
    {
      "cell_type": "markdown",
      "metadata": {
        "id": "2PtDw0XccDqZ",
        "colab_type": "text"
      },
      "source": [
        "20. Qual é o número total de passageiros por classe social?"
      ]
    },
    {
      "cell_type": "code",
      "metadata": {
        "id": "kbXh-JX6cDqZ",
        "colab_type": "code",
        "colab": {}
      },
      "source": [
        ""
      ],
      "execution_count": null,
      "outputs": []
    },
    {
      "cell_type": "markdown",
      "metadata": {
        "id": "OdrRHSOhcDqd",
        "colab_type": "text"
      },
      "source": [
        "# REFERÊNCIAS\n",
        "\n",
        "- [Titanic: Machine Learning from Disaster](https://www.kaggle.com/c/titanic/data)\n",
        "- [Encyclopedia Titanica](https://www.encyclopedia-titanica.org/)\n",
        "- [Basic Feature Engineering with the Titanic Data](https://triangleinequality.wordpress.com/2013/09/08/basic-feature-engineering-with-the-titanic-data/)\n",
        "- Hind, Philip.  \"Encyclopedia Titanica.\"  Online.  Internet. n.p.  02 Aug 1999."
      ]
    }
  ]
}